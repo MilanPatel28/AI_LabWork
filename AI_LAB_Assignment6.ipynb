{
  "nbformat": 4,
  "nbformat_minor": 0,
  "metadata": {
    "colab": {
      "provenance": [],
      "gpuType": "T4"
    },
    "kernelspec": {
      "name": "python3",
      "display_name": "Python 3"
    },
    "language_info": {
      "name": "python"
    },
    "accelerator": "GPU"
  },
  "cells": [
    {
      "cell_type": "code",
      "source": [
        "from google.colab import drive\n",
        "drive.mount('/content/drive')"
      ],
      "metadata": {
        "colab": {
          "base_uri": "https://localhost:8080/"
        },
        "id": "NM3_CVXT7cbM",
        "outputId": "1d49ce05-b059-4664-fdca-dfc0f4056044"
      },
      "execution_count": null,
      "outputs": [
        {
          "output_type": "stream",
          "name": "stdout",
          "text": [
            "Mounted at /content/drive\n"
          ]
        }
      ]
    },
    {
      "cell_type": "code",
      "execution_count": null,
      "metadata": {
        "id": "cJWY15Gufzmq"
      },
      "outputs": [],
      "source": [
        "import pandas as pd\n",
        "import numpy as np\n",
        "import tensorflow as tf\n",
        "from sklearn.model_selection import train_test_split\n",
        "from sklearn.preprocessing import StandardScaler\n",
        "from sklearn.metrics import accuracy_score"
      ]
    },
    {
      "cell_type": "code",
      "source": [
        "# Load train and test datasets\n",
        "train_data = pd.read_csv(\"/content/drive/MyDrive/mobile_application_train.csv\")\n",
        "test_data = pd.read_csv(\"/content/drive/MyDrive/mobile_application_test.csv\")"
      ],
      "metadata": {
        "id": "cbaicokkhPZT"
      },
      "execution_count": null,
      "outputs": []
    },
    {
      "cell_type": "code",
      "source": [
        "train_data.shape"
      ],
      "metadata": {
        "colab": {
          "base_uri": "https://localhost:8080/"
        },
        "id": "mDJF0bcmkGEh",
        "outputId": "ad70d5a1-c5d1-4d2e-a124-bf22012ddd13"
      },
      "execution_count": null,
      "outputs": [
        {
          "output_type": "execute_result",
          "data": {
            "text/plain": [
              "(2000, 21)"
            ]
          },
          "metadata": {},
          "execution_count": 4
        }
      ]
    },
    {
      "cell_type": "code",
      "source": [
        "train_data.describe()"
      ],
      "metadata": {
        "colab": {
          "base_uri": "https://localhost:8080/",
          "height": 349
        },
        "id": "SSB3ggodkKpB",
        "outputId": "66d32a24-0b8d-4064-dbb6-4ccf49e29319"
      },
      "execution_count": null,
      "outputs": [
        {
          "output_type": "execute_result",
          "data": {
            "text/plain": [
              "       battery_power       blue  clock_speed     dual_sim           fc  \\\n",
              "count    2000.000000  2000.0000  2000.000000  2000.000000  2000.000000   \n",
              "mean     1238.518500     0.4950     1.522250     0.509500     4.309500   \n",
              "std       439.418206     0.5001     0.816004     0.500035     4.341444   \n",
              "min       501.000000     0.0000     0.500000     0.000000     0.000000   \n",
              "25%       851.750000     0.0000     0.700000     0.000000     1.000000   \n",
              "50%      1226.000000     0.0000     1.500000     1.000000     3.000000   \n",
              "75%      1615.250000     1.0000     2.200000     1.000000     7.000000   \n",
              "max      1998.000000     1.0000     3.000000     1.000000    19.000000   \n",
              "\n",
              "            four_g   int_memory        m_dep    mobile_wt      n_cores  ...  \\\n",
              "count  2000.000000  2000.000000  2000.000000  2000.000000  2000.000000  ...   \n",
              "mean      0.521500    32.046500     0.501750   140.249000     4.520500  ...   \n",
              "std       0.499662    18.145715     0.288416    35.399655     2.287837  ...   \n",
              "min       0.000000     2.000000     0.100000    80.000000     1.000000  ...   \n",
              "25%       0.000000    16.000000     0.200000   109.000000     3.000000  ...   \n",
              "50%       1.000000    32.000000     0.500000   141.000000     4.000000  ...   \n",
              "75%       1.000000    48.000000     0.800000   170.000000     7.000000  ...   \n",
              "max       1.000000    64.000000     1.000000   200.000000     8.000000  ...   \n",
              "\n",
              "         px_height     px_width          ram         sc_h         sc_w  \\\n",
              "count  2000.000000  2000.000000  2000.000000  2000.000000  2000.000000   \n",
              "mean    645.108000  1251.515500  2124.213000    12.306500     5.767000   \n",
              "std     443.780811   432.199447  1084.732044     4.213245     4.356398   \n",
              "min       0.000000   500.000000   256.000000     5.000000     0.000000   \n",
              "25%     282.750000   874.750000  1207.500000     9.000000     2.000000   \n",
              "50%     564.000000  1247.000000  2146.500000    12.000000     5.000000   \n",
              "75%     947.250000  1633.000000  3064.500000    16.000000     9.000000   \n",
              "max    1960.000000  1998.000000  3998.000000    19.000000    18.000000   \n",
              "\n",
              "         talk_time      three_g  touch_screen         wifi  price_range  \n",
              "count  2000.000000  2000.000000   2000.000000  2000.000000  2000.000000  \n",
              "mean     11.011000     0.761500      0.503000     0.507000     1.500000  \n",
              "std       5.463955     0.426273      0.500116     0.500076     1.118314  \n",
              "min       2.000000     0.000000      0.000000     0.000000     0.000000  \n",
              "25%       6.000000     1.000000      0.000000     0.000000     0.750000  \n",
              "50%      11.000000     1.000000      1.000000     1.000000     1.500000  \n",
              "75%      16.000000     1.000000      1.000000     1.000000     2.250000  \n",
              "max      20.000000     1.000000      1.000000     1.000000     3.000000  \n",
              "\n",
              "[8 rows x 21 columns]"
            ],
            "text/html": [
              "\n",
              "  <div id=\"df-4cb96c42-01af-48b8-83db-0e01d0bbca3f\" class=\"colab-df-container\">\n",
              "    <div>\n",
              "<style scoped>\n",
              "    .dataframe tbody tr th:only-of-type {\n",
              "        vertical-align: middle;\n",
              "    }\n",
              "\n",
              "    .dataframe tbody tr th {\n",
              "        vertical-align: top;\n",
              "    }\n",
              "\n",
              "    .dataframe thead th {\n",
              "        text-align: right;\n",
              "    }\n",
              "</style>\n",
              "<table border=\"1\" class=\"dataframe\">\n",
              "  <thead>\n",
              "    <tr style=\"text-align: right;\">\n",
              "      <th></th>\n",
              "      <th>battery_power</th>\n",
              "      <th>blue</th>\n",
              "      <th>clock_speed</th>\n",
              "      <th>dual_sim</th>\n",
              "      <th>fc</th>\n",
              "      <th>four_g</th>\n",
              "      <th>int_memory</th>\n",
              "      <th>m_dep</th>\n",
              "      <th>mobile_wt</th>\n",
              "      <th>n_cores</th>\n",
              "      <th>...</th>\n",
              "      <th>px_height</th>\n",
              "      <th>px_width</th>\n",
              "      <th>ram</th>\n",
              "      <th>sc_h</th>\n",
              "      <th>sc_w</th>\n",
              "      <th>talk_time</th>\n",
              "      <th>three_g</th>\n",
              "      <th>touch_screen</th>\n",
              "      <th>wifi</th>\n",
              "      <th>price_range</th>\n",
              "    </tr>\n",
              "  </thead>\n",
              "  <tbody>\n",
              "    <tr>\n",
              "      <th>count</th>\n",
              "      <td>2000.000000</td>\n",
              "      <td>2000.0000</td>\n",
              "      <td>2000.000000</td>\n",
              "      <td>2000.000000</td>\n",
              "      <td>2000.000000</td>\n",
              "      <td>2000.000000</td>\n",
              "      <td>2000.000000</td>\n",
              "      <td>2000.000000</td>\n",
              "      <td>2000.000000</td>\n",
              "      <td>2000.000000</td>\n",
              "      <td>...</td>\n",
              "      <td>2000.000000</td>\n",
              "      <td>2000.000000</td>\n",
              "      <td>2000.000000</td>\n",
              "      <td>2000.000000</td>\n",
              "      <td>2000.000000</td>\n",
              "      <td>2000.000000</td>\n",
              "      <td>2000.000000</td>\n",
              "      <td>2000.000000</td>\n",
              "      <td>2000.000000</td>\n",
              "      <td>2000.000000</td>\n",
              "    </tr>\n",
              "    <tr>\n",
              "      <th>mean</th>\n",
              "      <td>1238.518500</td>\n",
              "      <td>0.4950</td>\n",
              "      <td>1.522250</td>\n",
              "      <td>0.509500</td>\n",
              "      <td>4.309500</td>\n",
              "      <td>0.521500</td>\n",
              "      <td>32.046500</td>\n",
              "      <td>0.501750</td>\n",
              "      <td>140.249000</td>\n",
              "      <td>4.520500</td>\n",
              "      <td>...</td>\n",
              "      <td>645.108000</td>\n",
              "      <td>1251.515500</td>\n",
              "      <td>2124.213000</td>\n",
              "      <td>12.306500</td>\n",
              "      <td>5.767000</td>\n",
              "      <td>11.011000</td>\n",
              "      <td>0.761500</td>\n",
              "      <td>0.503000</td>\n",
              "      <td>0.507000</td>\n",
              "      <td>1.500000</td>\n",
              "    </tr>\n",
              "    <tr>\n",
              "      <th>std</th>\n",
              "      <td>439.418206</td>\n",
              "      <td>0.5001</td>\n",
              "      <td>0.816004</td>\n",
              "      <td>0.500035</td>\n",
              "      <td>4.341444</td>\n",
              "      <td>0.499662</td>\n",
              "      <td>18.145715</td>\n",
              "      <td>0.288416</td>\n",
              "      <td>35.399655</td>\n",
              "      <td>2.287837</td>\n",
              "      <td>...</td>\n",
              "      <td>443.780811</td>\n",
              "      <td>432.199447</td>\n",
              "      <td>1084.732044</td>\n",
              "      <td>4.213245</td>\n",
              "      <td>4.356398</td>\n",
              "      <td>5.463955</td>\n",
              "      <td>0.426273</td>\n",
              "      <td>0.500116</td>\n",
              "      <td>0.500076</td>\n",
              "      <td>1.118314</td>\n",
              "    </tr>\n",
              "    <tr>\n",
              "      <th>min</th>\n",
              "      <td>501.000000</td>\n",
              "      <td>0.0000</td>\n",
              "      <td>0.500000</td>\n",
              "      <td>0.000000</td>\n",
              "      <td>0.000000</td>\n",
              "      <td>0.000000</td>\n",
              "      <td>2.000000</td>\n",
              "      <td>0.100000</td>\n",
              "      <td>80.000000</td>\n",
              "      <td>1.000000</td>\n",
              "      <td>...</td>\n",
              "      <td>0.000000</td>\n",
              "      <td>500.000000</td>\n",
              "      <td>256.000000</td>\n",
              "      <td>5.000000</td>\n",
              "      <td>0.000000</td>\n",
              "      <td>2.000000</td>\n",
              "      <td>0.000000</td>\n",
              "      <td>0.000000</td>\n",
              "      <td>0.000000</td>\n",
              "      <td>0.000000</td>\n",
              "    </tr>\n",
              "    <tr>\n",
              "      <th>25%</th>\n",
              "      <td>851.750000</td>\n",
              "      <td>0.0000</td>\n",
              "      <td>0.700000</td>\n",
              "      <td>0.000000</td>\n",
              "      <td>1.000000</td>\n",
              "      <td>0.000000</td>\n",
              "      <td>16.000000</td>\n",
              "      <td>0.200000</td>\n",
              "      <td>109.000000</td>\n",
              "      <td>3.000000</td>\n",
              "      <td>...</td>\n",
              "      <td>282.750000</td>\n",
              "      <td>874.750000</td>\n",
              "      <td>1207.500000</td>\n",
              "      <td>9.000000</td>\n",
              "      <td>2.000000</td>\n",
              "      <td>6.000000</td>\n",
              "      <td>1.000000</td>\n",
              "      <td>0.000000</td>\n",
              "      <td>0.000000</td>\n",
              "      <td>0.750000</td>\n",
              "    </tr>\n",
              "    <tr>\n",
              "      <th>50%</th>\n",
              "      <td>1226.000000</td>\n",
              "      <td>0.0000</td>\n",
              "      <td>1.500000</td>\n",
              "      <td>1.000000</td>\n",
              "      <td>3.000000</td>\n",
              "      <td>1.000000</td>\n",
              "      <td>32.000000</td>\n",
              "      <td>0.500000</td>\n",
              "      <td>141.000000</td>\n",
              "      <td>4.000000</td>\n",
              "      <td>...</td>\n",
              "      <td>564.000000</td>\n",
              "      <td>1247.000000</td>\n",
              "      <td>2146.500000</td>\n",
              "      <td>12.000000</td>\n",
              "      <td>5.000000</td>\n",
              "      <td>11.000000</td>\n",
              "      <td>1.000000</td>\n",
              "      <td>1.000000</td>\n",
              "      <td>1.000000</td>\n",
              "      <td>1.500000</td>\n",
              "    </tr>\n",
              "    <tr>\n",
              "      <th>75%</th>\n",
              "      <td>1615.250000</td>\n",
              "      <td>1.0000</td>\n",
              "      <td>2.200000</td>\n",
              "      <td>1.000000</td>\n",
              "      <td>7.000000</td>\n",
              "      <td>1.000000</td>\n",
              "      <td>48.000000</td>\n",
              "      <td>0.800000</td>\n",
              "      <td>170.000000</td>\n",
              "      <td>7.000000</td>\n",
              "      <td>...</td>\n",
              "      <td>947.250000</td>\n",
              "      <td>1633.000000</td>\n",
              "      <td>3064.500000</td>\n",
              "      <td>16.000000</td>\n",
              "      <td>9.000000</td>\n",
              "      <td>16.000000</td>\n",
              "      <td>1.000000</td>\n",
              "      <td>1.000000</td>\n",
              "      <td>1.000000</td>\n",
              "      <td>2.250000</td>\n",
              "    </tr>\n",
              "    <tr>\n",
              "      <th>max</th>\n",
              "      <td>1998.000000</td>\n",
              "      <td>1.0000</td>\n",
              "      <td>3.000000</td>\n",
              "      <td>1.000000</td>\n",
              "      <td>19.000000</td>\n",
              "      <td>1.000000</td>\n",
              "      <td>64.000000</td>\n",
              "      <td>1.000000</td>\n",
              "      <td>200.000000</td>\n",
              "      <td>8.000000</td>\n",
              "      <td>...</td>\n",
              "      <td>1960.000000</td>\n",
              "      <td>1998.000000</td>\n",
              "      <td>3998.000000</td>\n",
              "      <td>19.000000</td>\n",
              "      <td>18.000000</td>\n",
              "      <td>20.000000</td>\n",
              "      <td>1.000000</td>\n",
              "      <td>1.000000</td>\n",
              "      <td>1.000000</td>\n",
              "      <td>3.000000</td>\n",
              "    </tr>\n",
              "  </tbody>\n",
              "</table>\n",
              "<p>8 rows × 21 columns</p>\n",
              "</div>\n",
              "    <div class=\"colab-df-buttons\">\n",
              "\n",
              "  <div class=\"colab-df-container\">\n",
              "    <button class=\"colab-df-convert\" onclick=\"convertToInteractive('df-4cb96c42-01af-48b8-83db-0e01d0bbca3f')\"\n",
              "            title=\"Convert this dataframe to an interactive table.\"\n",
              "            style=\"display:none;\">\n",
              "\n",
              "  <svg xmlns=\"http://www.w3.org/2000/svg\" height=\"24px\" viewBox=\"0 -960 960 960\">\n",
              "    <path d=\"M120-120v-720h720v720H120Zm60-500h600v-160H180v160Zm220 220h160v-160H400v160Zm0 220h160v-160H400v160ZM180-400h160v-160H180v160Zm440 0h160v-160H620v160ZM180-180h160v-160H180v160Zm440 0h160v-160H620v160Z\"/>\n",
              "  </svg>\n",
              "    </button>\n",
              "\n",
              "  <style>\n",
              "    .colab-df-container {\n",
              "      display:flex;\n",
              "      gap: 12px;\n",
              "    }\n",
              "\n",
              "    .colab-df-convert {\n",
              "      background-color: #E8F0FE;\n",
              "      border: none;\n",
              "      border-radius: 50%;\n",
              "      cursor: pointer;\n",
              "      display: none;\n",
              "      fill: #1967D2;\n",
              "      height: 32px;\n",
              "      padding: 0 0 0 0;\n",
              "      width: 32px;\n",
              "    }\n",
              "\n",
              "    .colab-df-convert:hover {\n",
              "      background-color: #E2EBFA;\n",
              "      box-shadow: 0px 1px 2px rgba(60, 64, 67, 0.3), 0px 1px 3px 1px rgba(60, 64, 67, 0.15);\n",
              "      fill: #174EA6;\n",
              "    }\n",
              "\n",
              "    .colab-df-buttons div {\n",
              "      margin-bottom: 4px;\n",
              "    }\n",
              "\n",
              "    [theme=dark] .colab-df-convert {\n",
              "      background-color: #3B4455;\n",
              "      fill: #D2E3FC;\n",
              "    }\n",
              "\n",
              "    [theme=dark] .colab-df-convert:hover {\n",
              "      background-color: #434B5C;\n",
              "      box-shadow: 0px 1px 3px 1px rgba(0, 0, 0, 0.15);\n",
              "      filter: drop-shadow(0px 1px 2px rgba(0, 0, 0, 0.3));\n",
              "      fill: #FFFFFF;\n",
              "    }\n",
              "  </style>\n",
              "\n",
              "    <script>\n",
              "      const buttonEl =\n",
              "        document.querySelector('#df-4cb96c42-01af-48b8-83db-0e01d0bbca3f button.colab-df-convert');\n",
              "      buttonEl.style.display =\n",
              "        google.colab.kernel.accessAllowed ? 'block' : 'none';\n",
              "\n",
              "      async function convertToInteractive(key) {\n",
              "        const element = document.querySelector('#df-4cb96c42-01af-48b8-83db-0e01d0bbca3f');\n",
              "        const dataTable =\n",
              "          await google.colab.kernel.invokeFunction('convertToInteractive',\n",
              "                                                    [key], {});\n",
              "        if (!dataTable) return;\n",
              "\n",
              "        const docLinkHtml = 'Like what you see? Visit the ' +\n",
              "          '<a target=\"_blank\" href=https://colab.research.google.com/notebooks/data_table.ipynb>data table notebook</a>'\n",
              "          + ' to learn more about interactive tables.';\n",
              "        element.innerHTML = '';\n",
              "        dataTable['output_type'] = 'display_data';\n",
              "        await google.colab.output.renderOutput(dataTable, element);\n",
              "        const docLink = document.createElement('div');\n",
              "        docLink.innerHTML = docLinkHtml;\n",
              "        element.appendChild(docLink);\n",
              "      }\n",
              "    </script>\n",
              "  </div>\n",
              "\n",
              "\n",
              "<div id=\"df-9beda026-d2ee-49b7-b677-a9495b9be8f6\">\n",
              "  <button class=\"colab-df-quickchart\" onclick=\"quickchart('df-9beda026-d2ee-49b7-b677-a9495b9be8f6')\"\n",
              "            title=\"Suggest charts\"\n",
              "            style=\"display:none;\">\n",
              "\n",
              "<svg xmlns=\"http://www.w3.org/2000/svg\" height=\"24px\"viewBox=\"0 0 24 24\"\n",
              "     width=\"24px\">\n",
              "    <g>\n",
              "        <path d=\"M19 3H5c-1.1 0-2 .9-2 2v14c0 1.1.9 2 2 2h14c1.1 0 2-.9 2-2V5c0-1.1-.9-2-2-2zM9 17H7v-7h2v7zm4 0h-2V7h2v10zm4 0h-2v-4h2v4z\"/>\n",
              "    </g>\n",
              "</svg>\n",
              "  </button>\n",
              "\n",
              "<style>\n",
              "  .colab-df-quickchart {\n",
              "      --bg-color: #E8F0FE;\n",
              "      --fill-color: #1967D2;\n",
              "      --hover-bg-color: #E2EBFA;\n",
              "      --hover-fill-color: #174EA6;\n",
              "      --disabled-fill-color: #AAA;\n",
              "      --disabled-bg-color: #DDD;\n",
              "  }\n",
              "\n",
              "  [theme=dark] .colab-df-quickchart {\n",
              "      --bg-color: #3B4455;\n",
              "      --fill-color: #D2E3FC;\n",
              "      --hover-bg-color: #434B5C;\n",
              "      --hover-fill-color: #FFFFFF;\n",
              "      --disabled-bg-color: #3B4455;\n",
              "      --disabled-fill-color: #666;\n",
              "  }\n",
              "\n",
              "  .colab-df-quickchart {\n",
              "    background-color: var(--bg-color);\n",
              "    border: none;\n",
              "    border-radius: 50%;\n",
              "    cursor: pointer;\n",
              "    display: none;\n",
              "    fill: var(--fill-color);\n",
              "    height: 32px;\n",
              "    padding: 0;\n",
              "    width: 32px;\n",
              "  }\n",
              "\n",
              "  .colab-df-quickchart:hover {\n",
              "    background-color: var(--hover-bg-color);\n",
              "    box-shadow: 0 1px 2px rgba(60, 64, 67, 0.3), 0 1px 3px 1px rgba(60, 64, 67, 0.15);\n",
              "    fill: var(--button-hover-fill-color);\n",
              "  }\n",
              "\n",
              "  .colab-df-quickchart-complete:disabled,\n",
              "  .colab-df-quickchart-complete:disabled:hover {\n",
              "    background-color: var(--disabled-bg-color);\n",
              "    fill: var(--disabled-fill-color);\n",
              "    box-shadow: none;\n",
              "  }\n",
              "\n",
              "  .colab-df-spinner {\n",
              "    border: 2px solid var(--fill-color);\n",
              "    border-color: transparent;\n",
              "    border-bottom-color: var(--fill-color);\n",
              "    animation:\n",
              "      spin 1s steps(1) infinite;\n",
              "  }\n",
              "\n",
              "  @keyframes spin {\n",
              "    0% {\n",
              "      border-color: transparent;\n",
              "      border-bottom-color: var(--fill-color);\n",
              "      border-left-color: var(--fill-color);\n",
              "    }\n",
              "    20% {\n",
              "      border-color: transparent;\n",
              "      border-left-color: var(--fill-color);\n",
              "      border-top-color: var(--fill-color);\n",
              "    }\n",
              "    30% {\n",
              "      border-color: transparent;\n",
              "      border-left-color: var(--fill-color);\n",
              "      border-top-color: var(--fill-color);\n",
              "      border-right-color: var(--fill-color);\n",
              "    }\n",
              "    40% {\n",
              "      border-color: transparent;\n",
              "      border-right-color: var(--fill-color);\n",
              "      border-top-color: var(--fill-color);\n",
              "    }\n",
              "    60% {\n",
              "      border-color: transparent;\n",
              "      border-right-color: var(--fill-color);\n",
              "    }\n",
              "    80% {\n",
              "      border-color: transparent;\n",
              "      border-right-color: var(--fill-color);\n",
              "      border-bottom-color: var(--fill-color);\n",
              "    }\n",
              "    90% {\n",
              "      border-color: transparent;\n",
              "      border-bottom-color: var(--fill-color);\n",
              "    }\n",
              "  }\n",
              "</style>\n",
              "\n",
              "  <script>\n",
              "    async function quickchart(key) {\n",
              "      const quickchartButtonEl =\n",
              "        document.querySelector('#' + key + ' button');\n",
              "      quickchartButtonEl.disabled = true;  // To prevent multiple clicks.\n",
              "      quickchartButtonEl.classList.add('colab-df-spinner');\n",
              "      try {\n",
              "        const charts = await google.colab.kernel.invokeFunction(\n",
              "            'suggestCharts', [key], {});\n",
              "      } catch (error) {\n",
              "        console.error('Error during call to suggestCharts:', error);\n",
              "      }\n",
              "      quickchartButtonEl.classList.remove('colab-df-spinner');\n",
              "      quickchartButtonEl.classList.add('colab-df-quickchart-complete');\n",
              "    }\n",
              "    (() => {\n",
              "      let quickchartButtonEl =\n",
              "        document.querySelector('#df-9beda026-d2ee-49b7-b677-a9495b9be8f6 button');\n",
              "      quickchartButtonEl.style.display =\n",
              "        google.colab.kernel.accessAllowed ? 'block' : 'none';\n",
              "    })();\n",
              "  </script>\n",
              "</div>\n",
              "    </div>\n",
              "  </div>\n"
            ],
            "application/vnd.google.colaboratory.intrinsic+json": {
              "type": "dataframe"
            }
          },
          "metadata": {},
          "execution_count": 5
        }
      ]
    },
    {
      "cell_type": "code",
      "source": [
        "# Separate features and target variable in train dataset\n",
        "X_train = train_data.drop(columns=['price_range'])\n",
        "y_train = train_data['price_range']"
      ],
      "metadata": {
        "id": "8JZcYpFUkNfL"
      },
      "execution_count": null,
      "outputs": []
    },
    {
      "cell_type": "code",
      "source": [
        "test_data.drop(columns=['id'], inplace=True)  # Remove 'id' column or any other extra columns\n",
        "X_test = test_data"
      ],
      "metadata": {
        "id": "ScgkPYW2kP5n"
      },
      "execution_count": null,
      "outputs": []
    },
    {
      "cell_type": "code",
      "source": [
        "# Standardize features\n",
        "scaler = StandardScaler()\n",
        "X_train = scaler.fit_transform(X_train)\n",
        "X_test = scaler.transform(X_test)"
      ],
      "metadata": {
        "id": "5Y0HMVyBkS1g"
      },
      "execution_count": null,
      "outputs": []
    },
    {
      "cell_type": "code",
      "source": [
        "# Build the Model\n",
        "model = tf.keras.Sequential([\n",
        "    tf.keras.layers.Dense(64, activation='relu', input_shape=(X_train.shape[1],)),\n",
        "    tf.keras.layers.Dropout(0.2),\n",
        "    tf.keras.layers.Dense(64, activation='relu'),\n",
        "    tf.keras.layers.Dropout(0.2),\n",
        "    tf.keras.layers.Dense(4, activation='softmax')  # Output layer with 4 classes (0, 1, 2, 3)\n",
        "])"
      ],
      "metadata": {
        "id": "307FRZCLk9mO"
      },
      "execution_count": null,
      "outputs": []
    },
    {
      "cell_type": "code",
      "source": [
        "X_train.shape[1]"
      ],
      "metadata": {
        "colab": {
          "base_uri": "https://localhost:8080/"
        },
        "id": "-Tjlnb2MoqnP",
        "outputId": "eaa9e847-4365-48f3-84b6-86b7ae815d03"
      },
      "execution_count": null,
      "outputs": [
        {
          "output_type": "execute_result",
          "data": {
            "text/plain": [
              "20"
            ]
          },
          "metadata": {},
          "execution_count": 10
        }
      ]
    },
    {
      "cell_type": "code",
      "source": [
        "X_test.shape[1]"
      ],
      "metadata": {
        "colab": {
          "base_uri": "https://localhost:8080/"
        },
        "id": "AftwVY-WowhN",
        "outputId": "adff9fc8-af60-4c20-ddfd-6d07fe72ae67"
      },
      "execution_count": null,
      "outputs": [
        {
          "output_type": "execute_result",
          "data": {
            "text/plain": [
              "20"
            ]
          },
          "metadata": {},
          "execution_count": 11
        }
      ]
    },
    {
      "cell_type": "code",
      "source": [
        "model.summary()"
      ],
      "metadata": {
        "colab": {
          "base_uri": "https://localhost:8080/"
        },
        "id": "Mq8lsOdhnD8y",
        "outputId": "21993e74-5a15-4b4d-9984-0811196e00d3"
      },
      "execution_count": null,
      "outputs": [
        {
          "output_type": "stream",
          "name": "stdout",
          "text": [
            "Model: \"sequential\"\n",
            "_________________________________________________________________\n",
            " Layer (type)                Output Shape              Param #   \n",
            "=================================================================\n",
            " dense (Dense)               (None, 64)                1344      \n",
            "                                                                 \n",
            " dropout (Dropout)           (None, 64)                0         \n",
            "                                                                 \n",
            " dense_1 (Dense)             (None, 64)                4160      \n",
            "                                                                 \n",
            " dropout_1 (Dropout)         (None, 64)                0         \n",
            "                                                                 \n",
            " dense_2 (Dense)             (None, 4)                 260       \n",
            "                                                                 \n",
            "=================================================================\n",
            "Total params: 5764 (22.52 KB)\n",
            "Trainable params: 5764 (22.52 KB)\n",
            "Non-trainable params: 0 (0.00 Byte)\n",
            "_________________________________________________________________\n"
          ]
        }
      ]
    },
    {
      "cell_type": "code",
      "source": [
        "# Compile the model\n",
        "model.compile(optimizer='adam', loss='sparse_categorical_crossentropy', metrics=['accuracy'])"
      ],
      "metadata": {
        "id": "CHEghCW_ms2s"
      },
      "execution_count": null,
      "outputs": []
    },
    {
      "cell_type": "code",
      "source": [
        "# Train the Model\n",
        "hist = model.fit(X_train, y_train, epochs=60, batch_size=32, validation_split=0.3)"
      ],
      "metadata": {
        "colab": {
          "base_uri": "https://localhost:8080/"
        },
        "id": "s4T90NiBmv7g",
        "outputId": "e352614d-509a-4fa9-c8c0-c1336738c8ac"
      },
      "execution_count": null,
      "outputs": [
        {
          "output_type": "stream",
          "name": "stdout",
          "text": [
            "Epoch 1/60\n",
            "44/44 [==============================] - 3s 8ms/step - loss: 1.3605 - accuracy: 0.3443 - val_loss: 1.1809 - val_accuracy: 0.5300\n",
            "Epoch 2/60\n",
            "44/44 [==============================] - 0s 5ms/step - loss: 1.0910 - accuracy: 0.5179 - val_loss: 0.9469 - val_accuracy: 0.5900\n",
            "Epoch 3/60\n",
            "44/44 [==============================] - 0s 4ms/step - loss: 0.8779 - accuracy: 0.6250 - val_loss: 0.7568 - val_accuracy: 0.6950\n",
            "Epoch 4/60\n",
            "44/44 [==============================] - 0s 4ms/step - loss: 0.7088 - accuracy: 0.7043 - val_loss: 0.6209 - val_accuracy: 0.7800\n",
            "Epoch 5/60\n",
            "44/44 [==============================] - 0s 5ms/step - loss: 0.6107 - accuracy: 0.7514 - val_loss: 0.5308 - val_accuracy: 0.8133\n",
            "Epoch 6/60\n",
            "44/44 [==============================] - 0s 4ms/step - loss: 0.5325 - accuracy: 0.7736 - val_loss: 0.4593 - val_accuracy: 0.8383\n",
            "Epoch 7/60\n",
            "44/44 [==============================] - 0s 6ms/step - loss: 0.4771 - accuracy: 0.8179 - val_loss: 0.4079 - val_accuracy: 0.8633\n",
            "Epoch 8/60\n",
            "44/44 [==============================] - 0s 5ms/step - loss: 0.4310 - accuracy: 0.8250 - val_loss: 0.3707 - val_accuracy: 0.8650\n",
            "Epoch 9/60\n",
            "44/44 [==============================] - 0s 5ms/step - loss: 0.3770 - accuracy: 0.8564 - val_loss: 0.3469 - val_accuracy: 0.8667\n",
            "Epoch 10/60\n",
            "44/44 [==============================] - 0s 5ms/step - loss: 0.3523 - accuracy: 0.8464 - val_loss: 0.3139 - val_accuracy: 0.8767\n",
            "Epoch 11/60\n",
            "44/44 [==============================] - 0s 5ms/step - loss: 0.3159 - accuracy: 0.8821 - val_loss: 0.2906 - val_accuracy: 0.8850\n",
            "Epoch 12/60\n",
            "44/44 [==============================] - 0s 4ms/step - loss: 0.2902 - accuracy: 0.8921 - val_loss: 0.2777 - val_accuracy: 0.8933\n",
            "Epoch 13/60\n",
            "44/44 [==============================] - 0s 4ms/step - loss: 0.2788 - accuracy: 0.8857 - val_loss: 0.2741 - val_accuracy: 0.8867\n",
            "Epoch 14/60\n",
            "44/44 [==============================] - 0s 5ms/step - loss: 0.2712 - accuracy: 0.8907 - val_loss: 0.2500 - val_accuracy: 0.8967\n",
            "Epoch 15/60\n",
            "44/44 [==============================] - 0s 4ms/step - loss: 0.2698 - accuracy: 0.8900 - val_loss: 0.2441 - val_accuracy: 0.8983\n",
            "Epoch 16/60\n",
            "44/44 [==============================] - 0s 4ms/step - loss: 0.2404 - accuracy: 0.9136 - val_loss: 0.2431 - val_accuracy: 0.8967\n",
            "Epoch 17/60\n",
            "44/44 [==============================] - 0s 4ms/step - loss: 0.2372 - accuracy: 0.9079 - val_loss: 0.2302 - val_accuracy: 0.9000\n",
            "Epoch 18/60\n",
            "44/44 [==============================] - 0s 4ms/step - loss: 0.2262 - accuracy: 0.9107 - val_loss: 0.2396 - val_accuracy: 0.9033\n",
            "Epoch 19/60\n",
            "44/44 [==============================] - 0s 4ms/step - loss: 0.2057 - accuracy: 0.9279 - val_loss: 0.2262 - val_accuracy: 0.9000\n",
            "Epoch 20/60\n",
            "44/44 [==============================] - 0s 4ms/step - loss: 0.1940 - accuracy: 0.9229 - val_loss: 0.2212 - val_accuracy: 0.9033\n",
            "Epoch 21/60\n",
            "44/44 [==============================] - 0s 4ms/step - loss: 0.2030 - accuracy: 0.9129 - val_loss: 0.2249 - val_accuracy: 0.9000\n",
            "Epoch 22/60\n",
            "44/44 [==============================] - 0s 5ms/step - loss: 0.1711 - accuracy: 0.9300 - val_loss: 0.2137 - val_accuracy: 0.9117\n",
            "Epoch 23/60\n",
            "44/44 [==============================] - 0s 5ms/step - loss: 0.1792 - accuracy: 0.9279 - val_loss: 0.2237 - val_accuracy: 0.9050\n",
            "Epoch 24/60\n",
            "44/44 [==============================] - 0s 5ms/step - loss: 0.1685 - accuracy: 0.9357 - val_loss: 0.2145 - val_accuracy: 0.9000\n",
            "Epoch 25/60\n",
            "44/44 [==============================] - 0s 4ms/step - loss: 0.1606 - accuracy: 0.9371 - val_loss: 0.2224 - val_accuracy: 0.8950\n",
            "Epoch 26/60\n",
            "44/44 [==============================] - 0s 4ms/step - loss: 0.1505 - accuracy: 0.9471 - val_loss: 0.2038 - val_accuracy: 0.9017\n",
            "Epoch 27/60\n",
            "44/44 [==============================] - 0s 4ms/step - loss: 0.1516 - accuracy: 0.9371 - val_loss: 0.1982 - val_accuracy: 0.9033\n",
            "Epoch 28/60\n",
            "44/44 [==============================] - 0s 5ms/step - loss: 0.1504 - accuracy: 0.9429 - val_loss: 0.2061 - val_accuracy: 0.9050\n",
            "Epoch 29/60\n",
            "44/44 [==============================] - 0s 5ms/step - loss: 0.1494 - accuracy: 0.9386 - val_loss: 0.2004 - val_accuracy: 0.9117\n",
            "Epoch 30/60\n",
            "44/44 [==============================] - 0s 6ms/step - loss: 0.1558 - accuracy: 0.9343 - val_loss: 0.1974 - val_accuracy: 0.9083\n",
            "Epoch 31/60\n",
            "44/44 [==============================] - 0s 6ms/step - loss: 0.1265 - accuracy: 0.9507 - val_loss: 0.2024 - val_accuracy: 0.9133\n",
            "Epoch 32/60\n",
            "44/44 [==============================] - 0s 6ms/step - loss: 0.1384 - accuracy: 0.9521 - val_loss: 0.1970 - val_accuracy: 0.9100\n",
            "Epoch 33/60\n",
            "44/44 [==============================] - 0s 6ms/step - loss: 0.1375 - accuracy: 0.9500 - val_loss: 0.1928 - val_accuracy: 0.9117\n",
            "Epoch 34/60\n",
            "44/44 [==============================] - 0s 6ms/step - loss: 0.1201 - accuracy: 0.9643 - val_loss: 0.1932 - val_accuracy: 0.9200\n",
            "Epoch 35/60\n",
            "44/44 [==============================] - 0s 6ms/step - loss: 0.1215 - accuracy: 0.9479 - val_loss: 0.1992 - val_accuracy: 0.9133\n",
            "Epoch 36/60\n",
            "44/44 [==============================] - 0s 6ms/step - loss: 0.1245 - accuracy: 0.9529 - val_loss: 0.1892 - val_accuracy: 0.9183\n",
            "Epoch 37/60\n",
            "44/44 [==============================] - 0s 6ms/step - loss: 0.1158 - accuracy: 0.9543 - val_loss: 0.2073 - val_accuracy: 0.9200\n",
            "Epoch 38/60\n",
            "44/44 [==============================] - 0s 6ms/step - loss: 0.1214 - accuracy: 0.9571 - val_loss: 0.2056 - val_accuracy: 0.9117\n",
            "Epoch 39/60\n",
            "44/44 [==============================] - 0s 6ms/step - loss: 0.1152 - accuracy: 0.9529 - val_loss: 0.1985 - val_accuracy: 0.9167\n",
            "Epoch 40/60\n",
            "44/44 [==============================] - 0s 6ms/step - loss: 0.1081 - accuracy: 0.9593 - val_loss: 0.2082 - val_accuracy: 0.9167\n",
            "Epoch 41/60\n",
            "44/44 [==============================] - 0s 7ms/step - loss: 0.1076 - accuracy: 0.9600 - val_loss: 0.1927 - val_accuracy: 0.9217\n",
            "Epoch 42/60\n",
            "44/44 [==============================] - 0s 4ms/step - loss: 0.1010 - accuracy: 0.9579 - val_loss: 0.1890 - val_accuracy: 0.9167\n",
            "Epoch 43/60\n",
            "44/44 [==============================] - 0s 5ms/step - loss: 0.0974 - accuracy: 0.9636 - val_loss: 0.1885 - val_accuracy: 0.9200\n",
            "Epoch 44/60\n",
            "44/44 [==============================] - 0s 4ms/step - loss: 0.1110 - accuracy: 0.9543 - val_loss: 0.2078 - val_accuracy: 0.9100\n",
            "Epoch 45/60\n",
            "44/44 [==============================] - 0s 4ms/step - loss: 0.0991 - accuracy: 0.9593 - val_loss: 0.1957 - val_accuracy: 0.9200\n",
            "Epoch 46/60\n",
            "44/44 [==============================] - 0s 6ms/step - loss: 0.0994 - accuracy: 0.9621 - val_loss: 0.1914 - val_accuracy: 0.9133\n",
            "Epoch 47/60\n",
            "44/44 [==============================] - 0s 4ms/step - loss: 0.0968 - accuracy: 0.9636 - val_loss: 0.1977 - val_accuracy: 0.9100\n",
            "Epoch 48/60\n",
            "44/44 [==============================] - 0s 6ms/step - loss: 0.0869 - accuracy: 0.9671 - val_loss: 0.2050 - val_accuracy: 0.9233\n",
            "Epoch 49/60\n",
            "44/44 [==============================] - 0s 5ms/step - loss: 0.0947 - accuracy: 0.9686 - val_loss: 0.1937 - val_accuracy: 0.9217\n",
            "Epoch 50/60\n",
            "44/44 [==============================] - 0s 5ms/step - loss: 0.0886 - accuracy: 0.9671 - val_loss: 0.2155 - val_accuracy: 0.9183\n",
            "Epoch 51/60\n",
            "44/44 [==============================] - 0s 4ms/step - loss: 0.0776 - accuracy: 0.9700 - val_loss: 0.2090 - val_accuracy: 0.9050\n",
            "Epoch 52/60\n",
            "44/44 [==============================] - 0s 5ms/step - loss: 0.0886 - accuracy: 0.9707 - val_loss: 0.2053 - val_accuracy: 0.9150\n",
            "Epoch 53/60\n",
            "44/44 [==============================] - 0s 5ms/step - loss: 0.0743 - accuracy: 0.9693 - val_loss: 0.2137 - val_accuracy: 0.9083\n",
            "Epoch 54/60\n",
            "44/44 [==============================] - 0s 4ms/step - loss: 0.0905 - accuracy: 0.9664 - val_loss: 0.2027 - val_accuracy: 0.9083\n",
            "Epoch 55/60\n",
            "44/44 [==============================] - 0s 5ms/step - loss: 0.0869 - accuracy: 0.9650 - val_loss: 0.2159 - val_accuracy: 0.9050\n",
            "Epoch 56/60\n",
            "44/44 [==============================] - 0s 5ms/step - loss: 0.0824 - accuracy: 0.9729 - val_loss: 0.2139 - val_accuracy: 0.9133\n",
            "Epoch 57/60\n",
            "44/44 [==============================] - 0s 4ms/step - loss: 0.0718 - accuracy: 0.9757 - val_loss: 0.2089 - val_accuracy: 0.9083\n",
            "Epoch 58/60\n",
            "44/44 [==============================] - 0s 4ms/step - loss: 0.0705 - accuracy: 0.9750 - val_loss: 0.2119 - val_accuracy: 0.9150\n",
            "Epoch 59/60\n",
            "44/44 [==============================] - 0s 4ms/step - loss: 0.0836 - accuracy: 0.9671 - val_loss: 0.2274 - val_accuracy: 0.9117\n",
            "Epoch 60/60\n",
            "44/44 [==============================] - 0s 4ms/step - loss: 0.0718 - accuracy: 0.9714 - val_loss: 0.2185 - val_accuracy: 0.9067\n"
          ]
        }
      ]
    },
    {
      "cell_type": "code",
      "source": [
        "print(X_test)"
      ],
      "metadata": {
        "colab": {
          "base_uri": "https://localhost:8080/"
        },
        "id": "kEnxhWttnz57",
        "outputId": "29aa30e4-5fc7-445f-dd3b-5363563ed581"
      },
      "execution_count": null,
      "outputs": [
        {
          "output_type": "stream",
          "name": "stdout",
          "text": [
            "[[-0.44505984  1.0100505   0.34046327 ... -1.78686097  0.99401789\n",
            "  -1.01409939]\n",
            " [-0.90487356  1.0100505  -1.2530642  ...  0.55964063 -1.00601811\n",
            "  -1.01409939]\n",
            " [ 1.29403758  1.0100505   1.56625363 ... -1.78686097  0.99401789\n",
            "   0.98609664]\n",
            " ...\n",
            " [-0.12182446 -0.9900495  -0.14985287 ...  0.55964063 -1.00601811\n",
            "  -1.01409939]\n",
            " [ 0.67032987  1.0100505  -1.2530642  ... -1.78686097  0.99401789\n",
            "  -1.01409939]\n",
            " [ 0.07166151  1.0100505  -1.2530642  ...  0.55964063 -1.00601811\n",
            "   0.98609664]]\n"
          ]
        }
      ]
    },
    {
      "cell_type": "code",
      "source": [
        "X_train"
      ],
      "metadata": {
        "colab": {
          "base_uri": "https://localhost:8080/"
        },
        "id": "ThinGLduobO6",
        "outputId": "0375fdea-915d-4c63-ecd5-f1102f4abfca"
      },
      "execution_count": null,
      "outputs": [
        {
          "output_type": "execute_result",
          "data": {
            "text/plain": [
              "array([[-0.90259726, -0.9900495 ,  0.83077942, ..., -1.78686097,\n",
              "        -1.00601811,  0.98609664],\n",
              "       [-0.49513857,  1.0100505 , -1.2530642 , ...,  0.55964063,\n",
              "         0.99401789, -1.01409939],\n",
              "       [-1.5376865 ,  1.0100505 , -1.2530642 , ...,  0.55964063,\n",
              "         0.99401789, -1.01409939],\n",
              "       ...,\n",
              "       [ 1.53077336, -0.9900495 , -0.76274805, ...,  0.55964063,\n",
              "         0.99401789, -1.01409939],\n",
              "       [ 0.62252745, -0.9900495 , -0.76274805, ...,  0.55964063,\n",
              "         0.99401789,  0.98609664],\n",
              "       [-1.65833069,  1.0100505 ,  0.58562134, ...,  0.55964063,\n",
              "         0.99401789,  0.98609664]])"
            ]
          },
          "metadata": {},
          "execution_count": 16
        }
      ]
    },
    {
      "cell_type": "code",
      "source": [
        "pred = model.predict(X_test)\n",
        "predicted_classes = np.argmax(pred, axis=1)"
      ],
      "metadata": {
        "colab": {
          "base_uri": "https://localhost:8080/"
        },
        "id": "G66bDc1FpBGz",
        "outputId": "13c617b0-dadd-456b-be1d-9039dcc5908b"
      },
      "execution_count": null,
      "outputs": [
        {
          "output_type": "stream",
          "name": "stdout",
          "text": [
            "32/32 [==============================] - 0s 1ms/step\n"
          ]
        }
      ]
    },
    {
      "cell_type": "code",
      "source": [
        "# Get training accuracy and validation accuracy from training history\n",
        "train_accuracy = hist.history['accuracy']\n",
        "val_accuracy = hist.history['val_accuracy']\n",
        "\n",
        "# Print the final training accuracy and validation accuracy\n",
        "print(\"Training Accuracy:\", train_accuracy[-1])"
      ],
      "metadata": {
        "colab": {
          "base_uri": "https://localhost:8080/"
        },
        "id": "DbzG2YhbpQY6",
        "outputId": "8f2e0e22-3d59-473f-edc5-19fa7d6eae27"
      },
      "execution_count": null,
      "outputs": [
        {
          "output_type": "stream",
          "name": "stdout",
          "text": [
            "Training Accuracy: 0.9714285731315613\n"
          ]
        }
      ]
    }
  ]
}